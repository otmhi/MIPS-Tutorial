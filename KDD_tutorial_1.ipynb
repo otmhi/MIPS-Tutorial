{
  "cells": [
    {
      "cell_type": "markdown",
      "metadata": {
        "id": "0T4DZ6Dd0MFc"
      },
      "source": [
        "# KDD Tutorial 1"
      ],
      "id": "0T4DZ6Dd0MFc"
    },
    {
      "cell_type": "markdown",
      "metadata": {
        "id": "mZ03I_-E0QgA"
      },
      "source": [
        "## Getting Started"
      ],
      "id": "mZ03I_-E0QgA"
    },
    {
      "cell_type": "code",
      "execution_count": null,
      "metadata": {
        "colab": {
          "base_uri": "https://localhost:8080/"
        },
        "id": "ef0e7b3f",
        "outputId": "7ee2dddd-7979-4c24-913a-61fb5f05e86e"
      },
      "outputs": [
        {
          "output_type": "stream",
          "name": "stdout",
          "text": [
            "Mounted at /content/drive\n"
          ]
        }
      ],
      "source": [
        "from google.colab import drive\n",
        "drive.mount('/content/drive', force_remount=True)"
      ],
      "id": "ef0e7b3f"
    },
    {
      "cell_type": "code",
      "execution_count": null,
      "metadata": {
        "colab": {
          "base_uri": "https://localhost:8080/"
        },
        "id": "kVaQbZ4N8Fay",
        "outputId": "b3b397e1-6a39-46cc-fd0f-dd4fe48b5754"
      },
      "outputs": [
        {
          "name": "stdout",
          "output_type": "stream",
          "text": [
            "/content/drive/MyDrive/rewardoptimizingreco/Criteo\n"
          ]
        }
      ],
      "source": [
        "%cd drive/MyDrive/rewardoptimizingreco/Criteo/"
      ],
      "id": "kVaQbZ4N8Fay"
    },
    {
      "cell_type": "code",
      "execution_count": null,
      "metadata": {
        "colab": {
          "base_uri": "https://localhost:8080/"
        },
        "id": "Rq3Gh6eV8htL",
        "outputId": "73151195-213c-4670-a4e9-98e67b199782"
      },
      "outputs": [
        {
          "name": "stdout",
          "output_type": "stream",
          "text": [
            "Reading package lists... Done\n",
            "Building dependency tree       \n",
            "Reading state information... Done\n",
            "libomp-dev is already the newest version (5.0.1-1).\n",
            "The following package was automatically installed and is no longer required:\n",
            "  libnvidia-common-460\n",
            "Use 'apt autoremove' to remove it.\n",
            "0 upgraded, 0 newly installed, 0 to remove and 19 not upgraded.\n",
            "Looking in indexes: https://pypi.org/simple, https://us-python.pkg.dev/colab-wheels/public/simple/\n",
            "Requirement already satisfied: faiss-cpu in /usr/local/lib/python3.7/dist-packages (1.7.2)\n"
          ]
        }
      ],
      "source": [
        "!apt install libomp-dev\n",
        "!python -m pip install --upgrade faiss-cpu"
      ],
      "id": "Rq3Gh6eV8htL"
    },
    {
      "cell_type": "code",
      "execution_count": null,
      "metadata": {
        "id": "37afe4e6"
      },
      "outputs": [],
      "source": [
        "%load_ext rpy2.ipython"
      ],
      "id": "37afe4e6"
    },
    {
      "cell_type": "code",
      "execution_count": null,
      "metadata": {
        "id": "d67fcc45"
      },
      "outputs": [],
      "source": [
        "import tensorflow as tf\n",
        "import numpy as np\n",
        "import faiss\n",
        "import time\n",
        "import matplotlib.pyplot as plt\n",
        "import random \n",
        "\n",
        "from models import FullModel, RankingModel, RewardModel, SlateIPS, IndependentIPS, RandomModel\n",
        "from utils.logging_policy import LoggingPolicy\n",
        "from utils.simulator import Simulator\n",
        "from utils.simulated_ab_test import ABTest\n",
        "\n",
        "import pandas as pd\n",
        "\n",
        "SEED=42\n",
        "tf.random.set_seed(SEED)\n",
        "np.random.seed(SEED)\n",
        "random.seed(SEED)"
      ],
      "id": "d67fcc45"
    },
    {
      "cell_type": "markdown",
      "metadata": {
        "id": "6Wz0lCAO0U90"
      },
      "source": [
        "## Part1: MIPS vs. Naive argsort"
      ],
      "id": "6Wz0lCAO0U90"
    },
    {
      "cell_type": "code",
      "execution_count": null,
      "metadata": {
        "colab": {
          "background_save": true,
          "base_uri": "https://localhost:8080/"
        },
        "id": "2tIsAvBIF5u9",
        "outputId": "a58e1bc1-9be4-46e5-8065-e8c05a8e8fd4"
      },
      "outputs": [
        {
          "name": "stdout",
          "output_type": "stream",
          "text": [
            "Performing search on a catalog of 10000 products\n",
            "Performing search on a catalog of 13000 products\n",
            "Performing search on a catalog of 16900 products\n",
            "Performing search on a catalog of 21970 products\n",
            "Performing search on a catalog of 28561 products\n",
            "Performing search on a catalog of 37129 products\n",
            "Performing search on a catalog of 48267 products\n",
            "Performing search on a catalog of 62747 products\n",
            "Performing search on a catalog of 81571 products\n",
            "Performing search on a catalog of 106042 products\n",
            "Performing search on a catalog of 137854 products\n"
          ]
        }
      ],
      "source": [
        "d = 100 # embedding dimension\n",
        "K = 4 # slate size\n",
        "query_user = np.random.rand(1, d).astype('float32') # user embedding (query)\n",
        "\n",
        "catalog_sizes = [10000]\n",
        "for i in range(1, 11):\n",
        "    catalog_sizes.append(int(catalog_sizes[i-1]*1.3))\n",
        "nbr_runs = 1000\n",
        "\n",
        "mips_times = []\n",
        "argsort_times = []\n",
        "\n",
        "for nbr_products in catalog_sizes:\n",
        "  print('Performing search on a catalog of {} products'.format(nbr_products))\n",
        "  products_embeddings = np.load('saved_indexes/embedding_{}.npy'.format(nbr_products))\n",
        "  index = faiss.read_index('saved_indexes/index_{}.index'.format(nbr_products))\n",
        "\n",
        "  # fais O(logP), where P is the number of products\n",
        "  start = time.time()\n",
        "  for i in range(nbr_runs):\n",
        "    D, I = index.search(query_user, K)  # search\n",
        "  end = time.time()\n",
        "  mips_times.append((end-start)/nbr_runs)\n",
        "\n",
        "  # naive argosrt: O(PlogP), where P is the number of products\n",
        "  start = time.time()\n",
        "  for i in range(nbr_runs):\n",
        "    I = np.argsort(-products_embeddings @ query_user.T, axis=0)[:K] # search\n",
        "  end = time.time()\n",
        "  argsort_times.append((end-start)/nbr_runs)"
      ],
      "id": "2tIsAvBIF5u9"
    },
    {
      "cell_type": "code",
      "execution_count": null,
      "metadata": {
        "colab": {
          "background_save": true
        },
        "id": "6nOIKY3s_f6I",
        "outputId": "cb73f1e4-c656-49a8-d60d-e243961b9acc"
      },
      "outputs": [
        {
          "data": {
            "image/png": "[encoded data removed]",
            "text/plain": [
              "<Figure size 432x288 with 1 Axes>"
            ]
          },
          "metadata": {},
          "output_type": "display_data"
        }
      ],
      "source": [
        "search_times_ratios = np.array(argsort_times)/np.array(mips_times)\n",
        "plt.plot(catalog_sizes, search_times_ratios, '*--')\n",
        "plt.xlabel('catalog size')\n",
        "plt.ylabel('ratio of search time')\n",
        "plt.title('ratio of search times of naive argsort and MIPS for varying catalog sizes')\n",
        "plt.grid()"
      ],
      "id": "6nOIKY3s_f6I"
    },
    {
      "cell_type": "code",
      "execution_count": null,
      "metadata": {
        "colab": {
          "background_save": true
        },
        "id": "ZN67qW2F-OEN",
        "outputId": "d30f270a-a30f-4283-e931-e9dd8a8ca8f2"
      },
      "outputs": [
        {
          "data": {
            "text/plain": [
              "<matplotlib.legend.Legend at 0x7fefea179a50>"
            ]
          },
          "execution_count": 8,
          "metadata": {},
          "output_type": "execute_result"
        },
        {
          "data": {
            "image/png": "[encoded data removed]",
            "text/plain": [
              "<Figure size 432x288 with 1 Axes>"
            ]
          },
          "metadata": {},
          "output_type": "display_data"
        }
      ],
      "source": [
        "search_times_ratios = np.array(argsort_times)/np.array(mips_times)\n",
        "plt.plot(catalog_sizes, argsort_times, '^--', label='exact argsort')\n",
        "plt.plot(catalog_sizes, mips_times, 'o--', label='approximate mips')\n",
        "plt.xlabel('catalog size')\n",
        "plt.ylabel('search time')\n",
        "plt.title('search times of naive argsort and MIPS for varying catalog sizes')\n",
        "plt.grid()\n",
        "plt.legend()"
      ],
      "id": "ZN67qW2F-OEN"
    },
    {
      "cell_type": "code",
      "execution_count": null,
      "metadata": {
        "colab": {
          "background_save": true
        },
        "id": "4cMpodfm_ueQ",
        "outputId": "cc90343d-7c3c-4d43-94af-607d90696714"
      },
      "outputs": [
        {
          "name": "stdout",
          "output_type": "stream",
          "text": [
            "The ratios of search times are [  5.85233437   7.69916967  13.2598121   17.47429705  34.78746407\n",
            "  41.84806846  65.04991844  90.52564607 127.27629255 160.47529995\n",
            " 184.88331067]\n"
          ]
        }
      ],
      "source": [
        "print('The ratios of search times are', search_times_ratios)"
      ],
      "id": "4cMpodfm_ueQ"
    },
    {
      "cell_type": "code",
      "execution_count": null,
      "metadata": {
        "colab": {
          "background_save": true
        },
        "id": "jNqBfLb-uKJL"
      },
      "outputs": [],
      "source": [
        "#Flat index: O(PlogK), where P is the number of products and K is the slate size\n",
        "#flat_index = faiss.IndexFlat(d, faiss.METRIC_INNER_PRODUCT)\n",
        "#flat_index.add(products_embeddings)"
      ],
      "id": "jNqBfLb-uKJL"
    },
    {
      "cell_type": "markdown",
      "metadata": {
        "id": "VK1sgdUv0gtk"
      },
      "source": [
        "## Simulator Configuration"
      ],
      "id": "VK1sgdUv0gtk"
    },
    {
      "cell_type": "code",
      "execution_count": null,
      "metadata": {
        "colab": {
          "background_save": true
        },
        "id": "b2ba275b"
      },
      "outputs": [],
      "source": [
        "class Oracle(FullModel):\n",
        "    def __init__(self, nb_gs_categories, nb_bidding_features, bidding_mean, max_slate_size, **kwargs):\n",
        "        super().__init__(\n",
        "            bidding_init=np.random.randn(nb_bidding_features,1) * .1 + bidding_mean,\n",
        "            add_position_bias_init=np.random.randn(1, max_slate_size) * 1 + 0,\n",
        "            mult_position_bias_init=1-np.arange(max_slate_size).reshape([1, -1])/40,\n",
        "            nb_gs_categories=nb_gs_categories,\n",
        "            nb_bidding_features=nb_bidding_features,\n",
        "            bidding_mean=bidding_mean,\n",
        "            max_slate_size=max_slate_size,\n",
        "            **kwargs\n",
        "        )\n",
        "        self.context_lookup = tf.Variable(\n",
        "            tf.eye(nb_gs_categories),\n",
        "            trainable=False\n",
        "        )\n",
        "        self.product_lookup = tf.Variable(\n",
        "            tf.constant([\n",
        "                [-1, -1, -1, -1],\n",
        "                [  1,-.4, -.6,  .8],\n",
        "                [-.2,  1, 0.2,   0],\n",
        "                [-.6,-.6,   0,   1],\n",
        "                [ -1, .8, -.2, -.8],\n",
        "                [  0,  0,   1,  .6],\n",
        "                [-.8,-.2,  .8,  .4],\n",
        "                [ .8, -1,  -1,  -1]\n",
        "            ], dtype=tf.float32),\n",
        "            trainable=False\n",
        "        )"
      ],
      "id": "b2ba275b"
    },
    {
      "cell_type": "code",
      "execution_count": null,
      "metadata": {
        "colab": {
          "background_save": true
        },
        "id": "fa0a00f6"
      },
      "outputs": [],
      "source": [
        "config = dict(max_slate_size=2,\n",
        "              min_slate_size=2,\n",
        "              nb_bidding_features=2,\n",
        "              bidding_mean=8.,\n",
        "              embedding_dim=6,\n",
        "              nb_gs_categories=4,\n",
        "              max_gs_categories=1,\n",
        "              greedy_coef=1, # 1 means all actions are random\n",
        "              catalog_size=7,\n",
        "              nb_samples=15_000,\n",
        "              ab_test_samples=20_000,\n",
        "              num_epochs=160,\n",
        "              batch_size=1024,\n",
        "              learning_rate=0.005)"
      ],
      "id": "fa0a00f6"
    },
    {
      "cell_type": "code",
      "execution_count": null,
      "metadata": {
        "colab": {
          "background_save": true
        },
        "id": "dbf2ad0b"
      },
      "outputs": [],
      "source": [
        "config['criterion'] = tf.keras.losses.CategoricalCrossentropy(from_logits=True)\n",
        "config['optimizer'] = tf.keras.optimizers.Adam(learning_rate=config['learning_rate'])"
      ],
      "id": "dbf2ad0b"
    },
    {
      "cell_type": "code",
      "execution_count": null,
      "metadata": {
        "colab": {
          "background_save": true,
          "referenced_widgets": [
            "997f79b1faa543a798aa76302d94e8ba"
          ]
        },
        "id": "89e81770",
        "outputId": "15ea2e5e-c67b-49d9-e62e-f97d189ae649"
      },
      "outputs": [
        {
          "data": {
            "application/vnd.jupyter.widget-view+json": {
              "model_id": "997f79b1faa543a798aa76302d94e8ba",
              "version_major": 2,
              "version_minor": 0
            },
            "text/plain": [
              "  0%|          | 0/15000 [00:00<?, ?it/s]"
            ]
          },
          "metadata": {},
          "output_type": "display_data"
        },
        {
          "name": "stderr",
          "output_type": "stream",
          "text": [
            "/content/drive/MyDrive/rewardoptimizingreco/Criteo/utils/simulator.py:52: FutureWarning: Using a non-tuple sequence for multidimensional indexing is deprecated; use `arr[tuple(seq)]` instead of `arr[seq]`. In the future this will be interpreted as an array index, `arr[np.array(seq)]`, which will result either in an error or a different result.\n",
            "  single_item_propensity = tf.constant([logging_policy[action-1]], tf.float32)\n"
          ]
        },
        {
          "name": "stdout",
          "output_type": "stream",
          "text": [
            "CTR Logs: 4.7 ± 0.17 %\n"
          ]
        }
      ],
      "source": [
        "oracle = Oracle(**config)\n",
        "logging_policy = RandomModel(**config)\n",
        "simulator = Simulator(oracle_model=oracle, logging_model=logging_policy, **config)\n",
        "logs = simulator(**config)\n",
        "\n",
        "# getting the CTR of this generated log\n",
        "ctr = np.mean([logs[i]['reward'] for i in range(len(logs))])\n",
        "std = round(np.sqrt(ctr*(1-ctr)/config['nb_samples'])*100, 2)\n",
        "ctr = round(ctr*100,2)\n",
        "print(f\"CTR Logs: {ctr} ± {std} %\")"
      ],
      "id": "89e81770"
    },
    {
      "cell_type": "markdown",
      "metadata": {
        "id": "b_mWHiQV6W5w"
      },
      "source": [
        "## Part2: Combining Reward and Rank vs. Reward Only"
      ],
      "id": "b_mWHiQV6W5w"
    },
    {
      "cell_type": "code",
      "execution_count": null,
      "metadata": {
        "id": "zC_svbcG45uc"
      },
      "outputs": [],
      "source": [
        "# Training Reward and Rank (PRR), Rank only, and Reward Only\n",
        "\n",
        "models = {'Oracle': oracle, 'Random': RandomModel(**config)}\n",
        "PRETRAINED=False\n",
        "\n",
        "if not PRETRAINED:\n",
        "  for Model in [RewardModel, FullModel]:#\n",
        "      config['optimizer'].learning_rate = config['learning_rate']\n",
        "      model = Model(**config)\n",
        "      print(f\" Training {Model.__name__} \".center(40, \"-\"))\n",
        "      model.train(logs, **config)\n",
        "      models[Model.__name__] = model\n",
        "\n",
        "else:\n",
        "  x=1\n",
        "  #TODO\n",
        "  #tf.saved_model.save(models['RankingModel'], 'saved_models/ranking_model')\n",
        "  #restored_model = tf.saved_model.load('saved_models/ranking_model')\n",
        "  #original_model = models['RankingModel']  "
      ],
      "id": "zC_svbcG45uc"
    },
    {
      "cell_type": "code",
      "execution_count": null,
      "metadata": {
        "id": "rYorlwSHKtG4"
      },
      "outputs": [],
      "source": [
        "# compute \\int P(c|a,Omega,X)P(X) dX - using all modelling approaches\n",
        "def predictive_reward_oracle_model(models, logs, numX=600):\n",
        "\n",
        "    inv_map_products = {0:'padding' , 1:'Run. Shoes', 2:'Phone', 3:'Boots', 4:'Mic', 5:'Carpet', 6:'Pillow', 7:'Tennis B.'}\n",
        "    inv_map_context = {0: 'Sports', 1: 'Tech', 2: 'House', 3: 'Fashion'}\n",
        "\n",
        "    vii = []\n",
        "    vjj = []\n",
        "    vscores = []\n",
        "    vcontext = []\n",
        "    vfull = []\n",
        "    vrewardonly = []\n",
        "    for ii in range(min(numX, len(logs))):\n",
        "        sample = logs[ii]\n",
        "        for cc in range(4): # for each context\n",
        "            for ii in range(1,8): # for each pair of actions\n",
        "                for jj in range(1,8):\n",
        "                    if ii != jj:\n",
        "                        scores = oracle(ind_products=tf.convert_to_tensor((np.array([[ii, jj]])),dtype=tf.int32),ind_segments=tf.convert_to_tensor((np.array([[cc]])),dtype=tf.int32), bidding_features=sample['bidding'])\n",
        "                        vscores.append(1-np.exp(scores.numpy()[0,0])/np.sum(np.exp(scores.numpy())))\n",
        "\n",
        "                        scores = models['FullModel'](ind_products=tf.convert_to_tensor((np.array([[ii, jj]])),dtype=tf.int32),ind_segments=tf.convert_to_tensor((np.array([[cc]])),dtype=tf.int32), bidding_features=sample['bidding'])\n",
        "                        vfull.append(1-np.exp(scores.numpy()[0,0])/np.sum(np.exp(scores.numpy())))\n",
        "\n",
        "                        scores = models['RewardModel'](ind_products=tf.convert_to_tensor((np.array([[ii, jj]])),dtype=tf.int32),ind_segments=tf.convert_to_tensor((np.array([[cc]])),dtype=tf.int32), bidding_features=sample['bidding'])\n",
        "                        vrewardonly.append(1-np.exp(scores.numpy()[0,0])/np.sum(np.exp(scores.numpy())))\n",
        "\n",
        "                        vii.append('a1='+inv_map_products[ii])\n",
        "                        vjj.append('a2='+inv_map_products[jj])\n",
        "\n",
        "                        vcontext.append(inv_map_context[cc])\n",
        "    df_a1_a2 = pd.DataFrame({'context': vcontext, 'a1': vii, 'a2': vjj, 'ctr': vscores, 'ctr_full': vfull, 'ctr_rew': vrewardonly}).sort_values(['context','ctr'],ascending=False) \n",
        "    return df_a1_a2\n",
        "\n",
        "df_a1_a2 = predictive_reward_oracle_model(models, logs,numX=600)"
      ],
      "id": "rYorlwSHKtG4"
    },
    {
      "cell_type": "code",
      "execution_count": null,
      "metadata": {
        "id": "hvZboD5r46dv"
      },
      "outputs": [],
      "source": [
        "%%R -i df_a1_a2 -w 8 -h 5 --units in -r 1000\n",
        "library(data.table)\n",
        "library(ggplot2)\n",
        "\n",
        "# compute the orcale and model based estimates\n",
        "df_a1_a2<-data.table(df_a1_a2)\n",
        "g<-df_a1_a2[,list(ctr=mean(ctr),ctr.err=sd(ctr)/sqrt(.N),ctr_full=mean(ctr_full),ctr_rew=mean(ctr_rew)),list(context,a1,a2)]\n",
        "\n",
        "# nice plot!\n",
        "gg<-melt(g,c('context','a1','a2'),c('ctr','ctr_full','ctr_rew'))\n",
        "\n",
        "setnames(gg,c('context','a1','a2','Estimate','value'))\n",
        "gg[Estimate=='ctr',Estimate:='Oracle']\n",
        "gg[Estimate=='ctr_full',Estimate:='Full Model']\n",
        "gg[Estimate=='ctr_rew',Estimate:='Reward Model']\n",
        "\n",
        "\n",
        "ggplot(gg) + geom_point(aes(x=a2,y=value,colour=Estimate),size=0.6, position = position_dodge(width = 0.9)) + facet_grid(context ~ a1) + theme_bw() + theme(text = element_text(size = 8))   + theme(axis.text.x = element_text(angle = 90)) + ylab('CTR') + xlab('')  #+ coord_cartesian(xlim=c(0.15,0.4),ylim=c(0.15,0.4)) \n"
      ],
      "id": "hvZboD5r46dv"
    },
    {
      "cell_type": "markdown",
      "metadata": {
        "id": "HiBvx7-mqEL-"
      },
      "source": [
        "## Part3: Combining Reward and Rank vs. IPS"
      ],
      "id": "HiBvx7-mqEL-"
    },
    {
      "cell_type": "code",
      "execution_count": null,
      "metadata": {
        "id": "4AL4VABGqM4S"
      },
      "outputs": [],
      "source": [
        "# Training IPS and IIPS\n",
        "for Model in [SlateIPS, IndependentIPS]:\n",
        "    # Without TopK\n",
        "    config['optimizer'].learning_rate = config['learning_rate']\n",
        "    model = Model(**config)\n",
        "    print(f\" Training {Model.__name__} \".center(40, \"-\"))\n",
        "    model.train(logs, **config)\n",
        "    models[Model.__name__] = model\n",
        "\n",
        "    # With TopK\n",
        "    #config['optimizer'].learning_rate = config['learning_rate']\n",
        "    #model = Model(**config)\n",
        "    #print(f\" Training {Model.__name__} with TopK\".center(40, \"-\"))\n",
        "    #model.train(logs, topk=3, **config)\n",
        "    #models['TopK'+Model.__name__] = model"
      ],
      "id": "4AL4VABGqM4S"
    },
    {
      "cell_type": "code",
      "execution_count": null,
      "metadata": {
        "id": "c980eb95"
      },
      "outputs": [],
      "source": [
        "# do IPS\n",
        "def two_action_ips(logs):\n",
        "    inv_map_products = {0:'padding' , 1:'Run. Shoes', 2:'Phone', 3:'Boots', 4:'Mic', 5:'Carpet', 6:'Pillow', 7:'Tennis B.'}\n",
        "    inv_map_context = {0: 'Sports', 1: 'Tech', 2: 'House', 3: 'Fashion'}\n",
        "\n",
        "\n",
        "    ll = []\n",
        "\n",
        "    for ii in range(len(logs)):\n",
        "        slate_size = logs[ii]['slate_size'].numpy()[0,0]\n",
        "        if slate_size == 2:\n",
        "            a1 = logs[ii]['products'].numpy()[0,0]\n",
        "            a2 = logs[ii]['products'].numpy()[0,1]\n",
        "\n",
        "            click = 1-logs[ii]['labels'].numpy()[0,0]\n",
        "\n",
        "            ps = logs[ii]['slate_propensity'].numpy()[0]\n",
        "\n",
        "            context = logs[ii]['gs'].numpy()[0,0]\n",
        "            ll.append(pd.DataFrame({'context': [inv_map_context[context]], 'a1': 'a1='+inv_map_products[a1], 'a2': 'a2='+inv_map_products[a2], 'ps': ps, 'click': click}))\n",
        "\n",
        "    df_ps = pd.concat(ll)\n",
        "    return df_ps\n",
        "\n",
        "df_ps = two_action_ips(logs)"
      ],
      "id": "c980eb95"
    },
    {
      "cell_type": "code",
      "execution_count": null,
      "metadata": {
        "id": "8ff836fe"
      },
      "outputs": [],
      "source": [
        "%%R -i df_a1_a2 -i df_ps -w 8 -h 5 --units in -r 1000\n",
        "library(data.table)\n",
        "library(ggplot2)\n",
        "\n",
        "# compute the orcale and model based estimates\n",
        "df_a1_a2<-data.table(df_a1_a2)\n",
        "g<-df_a1_a2[,list(ctr=mean(ctr),ctr.err=sd(ctr)/sqrt(.N),ctr_full=mean(ctr_full)),list(context,a1,a2)]\n",
        "\n",
        "\n",
        "# compute the slate IPS based estimate\n",
        "df_ps<-data.table(df_ps)\n",
        "slateips<-merge(df_ps[,list(click=sum(click),ps=mean(ps)),list(a1, a2,context)],df_ps[,.N,context])\n",
        "slateips<-slateips[,ctr_ips:=click/(ps*N)][,list(context,a1,a2,ctr_ips)]\n",
        "g <-merge(g,slateips,by=c('context','a1','a2'))\n",
        "\n",
        "\n",
        "# nice plot!\n",
        "gg<-melt(g,c('context','a1','a2'),c('ctr','ctr_full','ctr_ips'))\n",
        "\n",
        "setnames(gg,c('context','a1','a2','Estimate','value'))\n",
        "gg[Estimate=='ctr',Estimate:='True']\n",
        "gg[Estimate=='ctr_ips',Estimate:='IPS']\n",
        "gg[Estimate=='ctr_full',Estimate:='Full Model']\n",
        "\n",
        "\n",
        "ggplot(gg) + geom_point(aes(x=a2,y=value,colour=Estimate),size=0.6, position = position_dodge(width = 0.9)) + facet_grid(context ~ a1) + theme_bw() + theme(text = element_text(size = 8))   + theme(axis.text.x = element_text(angle = 90)) + ylab('CTR') + xlab('')  #+ coord_cartesian(xlim=c(0.15,0.4),ylim=c(0.15,0.4)) "
      ],
      "id": "8ff836fe"
    },
    {
      "cell_type": "code",
      "execution_count": null,
      "metadata": {
        "id": "96bc6da6"
      },
      "outputs": [],
      "source": [
        "%%R -i df_a1_a2 -w 6 -h 2 --units in -r 800\n",
        "library(data.table)\n",
        "library(ggplot2)\n",
        "\n",
        "df_a1_a2<-data.table(df_a1_a2)\n",
        "g<-df_a1_a2[,list(ctr=mean(ctr),ctr.err=sd(ctr)/sqrt(.N),ctr_full=mean(ctr_full),ctr_rew=mean(ctr_rew)),list(context,a1,a2)]\n",
        "\n",
        "\n",
        "# compute the slate IPS based estimate\n",
        "df_ps<-data.table(df_ps)\n",
        "slateips<-merge(df_ps[,list(click=sum(click),ps=mean(ps)),list(a1, a2,context)],df_ps[,.N,context])\n",
        "slateips<-slateips[,ctr_ips:=click/(ps*N)][,list(context,a1,a2,ctr_ips)]\n",
        "g <-merge(g,slateips,by=c('context','a1','a2'))\n",
        "\n",
        "\n",
        "gg<-melt(g,c('context','a1','a2'),c('ctr','ctr_full','ctr_rew', 'ctr_ips'))\n",
        "\n",
        "\n",
        "setnames(gg,c('context','a1','a2','Estimate','value'))\n",
        "gg[Estimate=='ctr',Estimate:='True']\n",
        "gg[Estimate=='ctr_ips',Estimate:='IPS']\n",
        "gg[Estimate=='ctr_full',Estimate:='Full Model']\n",
        "gg[Estimate=='ctr_rew',Estimate:='Reward Model']\n",
        "\n",
        "gg_gg <- merge(gg[Estimate=='True'],gg[Estimate!='True'],by=c('context','a1','a2'))\n",
        "\n",
        "setnames(gg_gg, c('context', 'a1', 'a2', 'Estimate.x', 'value.x', 'Estimate', 'value.y'))\n",
        "\n",
        "ggplot(gg_gg) + geom_point(aes(x=value.x,y=value.y,colour=Estimate)) + facet_grid(. ~ Estimate) + theme_bw()  + theme(axis.text.x = element_text(angle = 90)) + xlab('True CTR') + ylab('Estimated CTR')  + theme(text = element_text(size = 6)) +  coord_cartesian(xlim=c(0.05,0.15),ylim=c(0.05,0.15)) \n",
        "\n"
      ],
      "id": "96bc6da6"
    },
    {
      "cell_type": "markdown",
      "metadata": {
        "id": "PQnGmGJjvFmw"
      },
      "source": [
        "# END"
      ],
      "id": "PQnGmGJjvFmw"
    }
  ],
  "metadata": {
    "colab": {
      "collapsed_sections": [],
      "name": "KDD tutorial 1.ipynb",
      "provenance": []
    },
    "hide_input": false,
    "kernelspec": {
      "display_name": "Python Criteo (MOAB #47349)",
      "language": "python",
      "name": "python-kernel-47349"
    },
    "language_info": {
      "codemirror_mode": {
        "name": "ipython",
        "version": 3
      },
      "file_extension": ".py",
      "mimetype": "text/x-python",
      "name": "python",
      "nbconvert_exporter": "python",
      "pygments_lexer": "ipython3",
      "version": "3.6.8"
    },
    "toc": {
      "base_numbering": 1,
      "nav_menu": {},
      "number_sections": true,
      "sideBar": true,
      "skip_h1_title": false,
      "title_cell": "Table of Contents",
      "title_sidebar": "Contents",
      "toc_cell": false,
      "toc_position": {},
      "toc_section_display": true,
      "toc_window_display": false
    }
  },
  "nbformat": 4,
  "nbformat_minor": 5
}