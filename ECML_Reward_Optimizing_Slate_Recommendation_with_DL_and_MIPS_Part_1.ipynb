{
  "cells": [
    {
      "cell_type": "markdown",
      "metadata": {
        "id": "0T4DZ6Dd0MFc"
      },
      "source": [
        "# Reward Optimizing Recommendation using Deep Learning and Fast Maximum Inner Product Search (MIPS)\n"
      ],
      "id": "0T4DZ6Dd0MFc"
    },
    {
      "cell_type": "markdown",
      "metadata": {
        "id": "mZ03I_-E0QgA"
      },
      "source": [
        "## Getting Started"
      ],
      "id": "mZ03I_-E0QgA"
    },
    {
      "cell_type": "code",
      "execution_count": null,
      "metadata": {
        "colab": {
          "base_uri": "https://localhost:8080/"
        },
        "id": "ef0e7b3f",
        "outputId": "35f87069-10af-4284-fc0d-e107fcdcb380"
      },
      "outputs": [
        {
          "name": "stdout",
          "output_type": "stream",
          "text": [
            "Looking in indexes: https://pypi.org/simple, https://us-python.pkg.dev/colab-wheels/public/simple/\n",
            "Requirement already satisfied: gdown in /usr/local/lib/python3.7/dist-packages (4.4.0)\n",
            "Requirement already satisfied: beautifulsoup4 in /usr/local/lib/python3.7/dist-packages (from gdown) (4.6.3)\n",
            "Requirement already satisfied: tqdm in /usr/local/lib/python3.7/dist-packages (from gdown) (4.64.1)\n",
            "Requirement already satisfied: requests[socks] in /usr/local/lib/python3.7/dist-packages (from gdown) (2.23.0)\n",
            "Requirement already satisfied: filelock in /usr/local/lib/python3.7/dist-packages (from gdown) (3.8.0)\n",
            "Requirement already satisfied: six in /usr/local/lib/python3.7/dist-packages (from gdown) (1.15.0)\n",
            "Requirement already satisfied: idna<3,>=2.5 in /usr/local/lib/python3.7/dist-packages (from requests[socks]->gdown) (2.10)\n",
            "Requirement already satisfied: certifi>=2017.4.17 in /usr/local/lib/python3.7/dist-packages (from requests[socks]->gdown) (2022.6.15)\n",
            "Requirement already satisfied: urllib3!=1.25.0,!=1.25.1,<1.26,>=1.21.1 in /usr/local/lib/python3.7/dist-packages (from requests[socks]->gdown) (1.24.3)\n",
            "Requirement already satisfied: chardet<4,>=3.0.2 in /usr/local/lib/python3.7/dist-packages (from requests[socks]->gdown) (3.0.4)\n",
            "Requirement already satisfied: PySocks!=1.5.7,>=1.5.6 in /usr/local/lib/python3.7/dist-packages (from requests[socks]->gdown) (1.7.1)\n",
            "Cloning into 'Reward-Optimizing-Reco'...\n",
            "remote: Enumerating objects: 148, done.\u001b[K\n",
            "remote: Counting objects: 100% (52/52), done.\u001b[K\n",
            "remote: Compressing objects: 100% (49/49), done.\u001b[K\n",
            "remote: Total 148 (delta 23), reused 8 (delta 3), pack-reused 96\u001b[K\n",
            "Receiving objects: 100% (148/148), 18.05 MiB | 14.28 MiB/s, done.\n",
            "Resolving deltas: 100% (59/59), done.\n",
            "/content/Reward-Optimizing-Reco\n"
          ]
        }
      ],
      "source": [
        "!pip install gdown\n",
        "!git clone https://github.com/otmhi/Reward-Optimizing-Reco.git\n",
        "%cd Reward-Optimizing-Reco"
      ],
      "id": "ef0e7b3f"
    },
    {
      "cell_type": "code",
      "execution_count": null,
      "metadata": {
        "colab": {
          "base_uri": "https://localhost:8080/"
        },
        "id": "kVaQbZ4N8Fay",
        "outputId": "e86610e0-420a-4fc2-9757-d958c3d41436"
      },
      "outputs": [
        {
          "name": "stdout",
          "output_type": "stream",
          "text": [
            "Downloading...\n",
            "From: https://drive.google.com/u/0/uc?id=112Y_ggpjpk8M5zN7uxOYbLhZAm26qQJL\n",
            "To: /content/Reward-Optimizing-Reco/saved_models_and_indexes.zip\n",
            "100% 458M/458M [00:03<00:00, 125MB/s]\n",
            "Archive:  saved_models_and_indexes.zip\n",
            "   creating: saved_models/Oracle/assets/\n",
            "   creating: saved_models/PRRModel/assets/\n",
            "  inflating: saved_indexes/embedding_10000.npy  \n",
            "   creating: saved_models/RewardModel/assets/\n",
            "  inflating: saved_indexes/embedding_16900.npy  \n",
            "  inflating: saved_models/PRRModel/saved_model.pb  \n",
            "  inflating: saved_models/Oracle/saved_model.pb  \n",
            "  inflating: saved_indexes/embedding_13000.npy  \n",
            "  inflating: saved_indexes/embedding_62747.npy  \n",
            "  inflating: saved_models/RewardModel/saved_model.pb  \n",
            "  inflating: saved_indexes/embedding_28561.npy  \n",
            "  inflating: saved_indexes/index_37129.index  \n",
            "  inflating: saved_models/PRRModel/variables/variables.data-00000-of-00001  \n",
            "  inflating: saved_models/PRRModel/variables/variables.index  \n",
            "  inflating: saved_indexes/embedding_21970.npy  \n",
            "  inflating: saved_models/Oracle/variables/variables.data-00000-of-00001  \n",
            "  inflating: saved_models/Oracle/variables/variables.index  \n",
            "  inflating: saved_indexes/index_10000.index  \n",
            "  inflating: saved_models/RewardModel/variables/variables.data-00000-of-00001  \n",
            "  inflating: saved_indexes/index_62747.index  \n",
            "  inflating: saved_indexes/index_48267.index  \n",
            "  inflating: saved_indexes/embedding_81571.npy  \n",
            "  inflating: saved_models/RewardModel/variables/variables.index  \n",
            "  inflating: saved_indexes/embedding_106042.npy  \n",
            "  inflating: saved_indexes/index_16900.index  \n",
            "  inflating: saved_indexes/embedding_37129.npy  \n",
            "  inflating: saved_indexes/index_13000.index  \n",
            "  inflating: saved_models/saved_logs  \n",
            "  inflating: saved_indexes/embedding_137854.npy  \n",
            "  inflating: saved_indexes/embedding_48267.npy  \n",
            "  inflating: saved_indexes/index_21970.index  \n",
            "  inflating: saved_indexes/index_81571.index  \n",
            "  inflating: saved_indexes/index_106042.index  \n",
            "  inflating: saved_indexes/index_137854.index  \n",
            "  inflating: saved_indexes/index_28561.index  \n"
          ]
        }
      ],
      "source": [
        "!gdown https://drive.google.com/u/0/uc?id=112Y_ggpjpk8M5zN7uxOYbLhZAm26qQJL&export=download\n",
        "!unzip saved_models_and_indexes"
      ],
      "id": "kVaQbZ4N8Fay"
    },
    {
      "cell_type": "code",
      "execution_count": null,
      "metadata": {
        "colab": {
          "base_uri": "https://localhost:8080/"
        },
        "id": "Rq3Gh6eV8htL",
        "outputId": "bbef95fc-0895-4723-9177-5f3da807245e"
      },
      "outputs": [
        {
          "name": "stdout",
          "output_type": "stream",
          "text": [
            "Reading package lists... Done\n",
            "Building dependency tree       \n",
            "Reading state information... Done\n",
            "The following package was automatically installed and is no longer required:\n",
            "  libnvidia-common-460\n",
            "Use 'apt autoremove' to remove it.\n",
            "The following additional packages will be installed:\n",
            "  libomp5\n",
            "Suggested packages:\n",
            "  libomp-doc\n",
            "The following NEW packages will be installed:\n",
            "  libomp-dev libomp5\n",
            "0 upgraded, 2 newly installed, 0 to remove and 32 not upgraded.\n",
            "Need to get 239 kB of archives.\n",
            "After this operation, 804 kB of additional disk space will be used.\n",
            "Get:1 http://archive.ubuntu.com/ubuntu bionic/universe amd64 libomp5 amd64 5.0.1-1 [234 kB]\n",
            "Get:2 http://archive.ubuntu.com/ubuntu bionic/universe amd64 libomp-dev amd64 5.0.1-1 [5,088 B]\n",
            "Fetched 239 kB in 1s (259 kB/s)\n",
            "Selecting previously unselected package libomp5:amd64.\n",
            "(Reading database ... 155685 files and directories currently installed.)\n",
            "Preparing to unpack .../libomp5_5.0.1-1_amd64.deb ...\n",
            "Unpacking libomp5:amd64 (5.0.1-1) ...\n",
            "Selecting previously unselected package libomp-dev.\n",
            "Preparing to unpack .../libomp-dev_5.0.1-1_amd64.deb ...\n",
            "Unpacking libomp-dev (5.0.1-1) ...\n",
            "Setting up libomp5:amd64 (5.0.1-1) ...\n",
            "Setting up libomp-dev (5.0.1-1) ...\n",
            "Processing triggers for libc-bin (2.27-3ubuntu1.5) ...\n",
            "Looking in indexes: https://pypi.org/simple, https://us-python.pkg.dev/colab-wheels/public/simple/\n",
            "Collecting faiss-cpu\n",
            "  Downloading faiss_cpu-1.7.2-cp37-cp37m-manylinux_2_17_x86_64.manylinux2014_x86_64.whl (8.6 MB)\n",
            "\u001b[K     |████████████████████████████████| 8.6 MB 4.7 MB/s \n",
            "\u001b[?25hInstalling collected packages: faiss-cpu\n",
            "Successfully installed faiss-cpu-1.7.2\n"
          ]
        }
      ],
      "source": [
        "!apt install libomp-dev\n",
        "!python -m pip install --upgrade faiss-cpu"
      ],
      "id": "Rq3Gh6eV8htL"
    },
    {
      "cell_type": "code",
      "execution_count": null,
      "metadata": {
        "id": "37afe4e6"
      },
      "outputs": [],
      "source": [
        "%load_ext rpy2.ipython"
      ],
      "id": "37afe4e6"
    },
    {
      "cell_type": "code",
      "execution_count": null,
      "metadata": {
        "id": "d67fcc45"
      },
      "outputs": [],
      "source": [
        "import tensorflow as tf\n",
        "import numpy as np\n",
        "import faiss\n",
        "import time\n",
        "import matplotlib.pyplot as plt\n",
        "import random \n",
        "import pickle\n",
        "\n",
        "from models import PRRModel, RewardModel, SlateIPS, IndependentIPS, RandomModel\n",
        "from utils.logging_policy import LoggingPolicy\n",
        "from utils.simulator import Simulator\n",
        "from utils.simulated_ab_test import ABTest\n",
        "\n",
        "import pandas as pd\n",
        "\n",
        "SEED=42\n",
        "tf.random.set_seed(SEED)\n",
        "np.random.seed(SEED)\n",
        "random.seed(SEED)"
      ],
      "id": "d67fcc45"
    },
    {
      "cell_type": "markdown",
      "metadata": {
        "id": "6Wz0lCAO0U90"
      },
      "source": [
        "## Part1: Approximate vs. Exact Top-K Search"
      ],
      "id": "6Wz0lCAO0U90"
    },
    {
      "cell_type": "markdown",
      "metadata": {
        "id": "brLqpqzfL5HJ"
      },
      "source": [
        "In slate recommendation, the decision rule often has the following form \n",
        "$$a_1,...,a_K = {\\rm argsort}\\left(f_\\Xi(x)^\\top \\beta\\right)_{[1:K]}\\,,$$\n",
        "where \n",
        "- $x$ is the context.\n",
        "- $f_\\Xi(x)$ is user embedding of dimension $d$, which depends on the context.\n",
        "- $\\beta$ is the matrix of item embeddings of dimension $d \\times P$ where $P$ is the total number of items in the catalog.\n",
        "\n",
        "The time complexity of sorting a list of $P$ items is $O(P \\log(P))$, and that of selecting the top-$K$ items from a list of $P$ items is $O(P \\log(K))$. Thus, the time complexity of the operation ${\\rm argsort}\\left(f_\\Xi(x)^\\top \\beta\\right)_{[1:K]}$ is $O(P \\log(K))$, which is inefficient for low latency RecSys with very large catalogs (large values of $P$).\n",
        "\n",
        "Now notice that the score of the decision rule has the form $f_\\Xi(x)^\\top \\beta$, and thus approximate top-$K$ can be used to search for the top-$K$ items in $O(\\log(P))$. Approximate top-$K$ search algorithms can be implemented using faiss. In this part of the tutorial, we show how we can use faiss to search for the top-$K$ items of a list and highlight its computational efficiency."
      ],
      "id": "brLqpqzfL5HJ"
    },
    {
      "cell_type": "markdown",
      "metadata": {
        "id": "l7JYelHkopuG"
      },
      "source": [
        "### Exercise 1: Computing the recommendation scores and performing search using numpy and faiss\n",
        "\n",
        "\n",
        "\n",
        "1.   Create a function compute_reco_score that takes that takes input a query_user (user embedding of dimension $1 \\times d$) and products_embeddings (a $P \\times d$ matrix of $P$ products embeddings of dimension $1 \\times d$), and returns a list (of size $P$) containing the recommendation score of each product.\n",
        "\n",
        "2.   Create a function exact_search that takes as input a list of $P$ scores and an integer $K$, and returns the indices of the $K$ highest scores. \n",
        "\n",
        "3. Create a function approximate_search that takes as input a query_user, an faiss index of the products embeddings, and an integer $K$, and returns the indices of the $K$ highest scores. \n",
        "\n",
        "\n",
        "\n"
      ],
      "id": "l7JYelHkopuG"
    },
    {
      "cell_type": "code",
      "execution_count": null,
      "metadata": {
        "id": "f4KCxQnftpR_"
      },
      "outputs": [],
      "source": [
        "def compute_reco_score(query_user, products_embeddings):\n",
        "  reco_scores = None ##TODO\n",
        "  return reco_scores\n",
        "\n",
        "def exact_search(reco_scores, K):\n",
        "  I = None ##TODO\n",
        "  return I\n",
        "\n",
        "def approximate_search(query_user, products_embeddings_index, K):\n",
        "  _, I = None, None ##TODO - hint products_embeddings_index.search\n",
        "  return I"
      ],
      "id": "f4KCxQnftpR_"
    },
    {
      "cell_type": "markdown",
      "metadata": {
        "id": "mD3gI8wFuFwS"
      },
      "source": [
        "### Solution 1: Computing the recommendation scores and performing search using numpy and faiss"
      ],
      "id": "mD3gI8wFuFwS"
    },
    {
      "cell_type": "code",
      "execution_count": null,
      "metadata": {
        "id": "Q7V_-UpEqTO7"
      },
      "outputs": [],
      "source": [
        "def compute_reco_score(query_user, products_embeddings):\n",
        "  reco_scores = products_embeddings @ query_user.T\n",
        "  return reco_scores"
      ],
      "id": "Q7V_-UpEqTO7"
    },
    {
      "cell_type": "code",
      "execution_count": null,
      "metadata": {
        "id": "3eMgsJTVqawq"
      },
      "outputs": [],
      "source": [
        "def exact_search(reco_scores, K):\n",
        "  I = np.argsort(-reco_scores, axis=0)[:K]\n",
        "  return I"
      ],
      "id": "3eMgsJTVqawq"
    },
    {
      "cell_type": "code",
      "execution_count": null,
      "metadata": {
        "id": "Bq2cKpLrqj3L"
      },
      "outputs": [],
      "source": [
        "def approximate_search(query_user, products_embeddings_index, K):\n",
        "  _, I = products_embeddings_index.search(query_user, K)\n",
        "  return I"
      ],
      "id": "Bq2cKpLrqj3L"
    },
    {
      "cell_type": "code",
      "execution_count": null,
      "metadata": {
        "colab": {
          "base_uri": "https://localhost:8080/"
        },
        "id": "2tIsAvBIF5u9",
        "outputId": "f1507ce8-8add-49fe-bae5-eefc8ad7e97a"
      },
      "outputs": [
        {
          "name": "stdout",
          "output_type": "stream",
          "text": [
            "Performing search on a catalog of 10000 products\n",
            "Performing search on a catalog of 13000 products\n",
            "Performing search on a catalog of 16900 products\n",
            "Performing search on a catalog of 21970 products\n",
            "Performing search on a catalog of 28561 products\n",
            "Performing search on a catalog of 37129 products\n",
            "Performing search on a catalog of 48267 products\n",
            "Performing search on a catalog of 62747 products\n",
            "Performing search on a catalog of 81571 products\n",
            "Performing search on a catalog of 106042 products\n",
            "Performing search on a catalog of 137854 products\n"
          ]
        }
      ],
      "source": [
        "d = 100 # embedding dimension\n",
        "K = 4 # slate size\n",
        "query_user = np.random.rand(1, d).astype('float32') # user embedding (query)\n",
        "\n",
        "catalog_sizes = [10000]\n",
        "for i in range(1, 11):\n",
        "    catalog_sizes.append(int(catalog_sizes[i-1]*1.3))\n",
        "nbr_runs = 1000\n",
        "\n",
        "mips_times = []\n",
        "argsort_times = []\n",
        "\n",
        "for nbr_products in catalog_sizes:\n",
        "  print('Performing search on a catalog of {} products'.format(nbr_products))\n",
        "  products_embeddings = np.load('saved_indexes/embedding_{}.npy'.format(nbr_products))\n",
        "\n",
        "  # exact search using argosrt: O(PlogP), where P is the number of products\n",
        "  start = time.time()\n",
        "  for i in range(nbr_runs):\n",
        "    reco_scores = compute_reco_score(query_user, products_embeddings)\n",
        "    I = exact_search(reco_scores, K) #exact search\n",
        "  end = time.time()\n",
        "  argsort_times.append((end-start)/nbr_runs)\n",
        "\n",
        "  products_embeddings_index = faiss.read_index('saved_indexes/index_{}.index'.format(nbr_products))\n",
        "  # fais O(logP), where P is the number of products\n",
        "  start = time.time()\n",
        "  for i in range(nbr_runs):\n",
        "    I = approximate_search(query_user, products_embeddings_index, K)  # approximate search\n",
        "  end = time.time()\n",
        "  mips_times.append((end-start)/nbr_runs)"
      ],
      "id": "2tIsAvBIF5u9"
    },
    {
      "cell_type": "code",
      "execution_count": null,
      "metadata": {
        "colab": {
          "base_uri": "https://localhost:8080/",
          "height": 350
        },
        "id": "6nOIKY3s_f6I",
        "outputId": "1b41dd1f-2c16-462e-a3ee-ebe950d58567"
      },
      "outputs": [
        {
          "data": {
            "image/png": "[encoded data removed]",
            "text/plain": [
              "<Figure size 576x360 with 1 Axes>"
            ]
          },
          "metadata": {},
          "output_type": "display_data"
        }
      ],
      "source": [
        "search_times_ratios = np.array(argsort_times)/np.array(mips_times)\n",
        "plt.figure(figsize=(8, 5))\n",
        "plt.plot(catalog_sizes, search_times_ratios, '*--')\n",
        "plt.xlabel('catalog size')\n",
        "plt.ylabel('ratio of search time')\n",
        "plt.title('ratio of search time of exact and approximate top-K for varying catalog sizes')\n",
        "plt.grid()"
      ],
      "id": "6nOIKY3s_f6I"
    },
    {
      "cell_type": "code",
      "execution_count": null,
      "metadata": {
        "colab": {
          "base_uri": "https://localhost:8080/",
          "height": 368
        },
        "id": "ZN67qW2F-OEN",
        "outputId": "3627b8fc-fa5d-4279-aa7c-8b3e06b07e37"
      },
      "outputs": [
        {
          "data": {
            "text/plain": [
              "<matplotlib.legend.Legend at 0x7f87f4d750d0>"
            ]
          },
          "execution_count": 12,
          "metadata": {},
          "output_type": "execute_result"
        },
        {
          "data": {
            "image/png": "[encoded data removed]",
            "text/plain": [
              "<Figure size 576x360 with 1 Axes>"
            ]
          },
          "metadata": {},
          "output_type": "display_data"
        }
      ],
      "source": [
        "plt.figure(figsize=(8, 5))\n",
        "plt.plot(catalog_sizes, argsort_times, '^--', label='exact')\n",
        "plt.plot(catalog_sizes, mips_times, 'o--', label='approximate')\n",
        "plt.xlabel('catalog size')\n",
        "plt.ylabel('search time')\n",
        "plt.title('search times of exact and approximate top-K for varying catalog sizes')\n",
        "plt.grid()\n",
        "plt.legend()"
      ],
      "id": "ZN67qW2F-OEN"
    },
    {
      "cell_type": "code",
      "execution_count": null,
      "metadata": {
        "colab": {
          "base_uri": "https://localhost:8080/"
        },
        "id": "jNqBfLb-uKJL",
        "outputId": "83d62a24-5ad3-42cf-ad60-d3b12d147886"
      },
      "outputs": [
        {
          "name": "stdout",
          "output_type": "stream",
          "text": [
            "Performing search on a catalog of 10000 products\n",
            "The search result using exact top-K [9172 8898 6804 4200]\n",
            "The search result using approximate top-K [[9172 8898 6804 4200]]\n"
          ]
        }
      ],
      "source": [
        "nbr_products = 10000\n",
        "print('Performing search on a catalog of {} products'.format(nbr_products))\n",
        "products_embeddings = np.load('saved_indexes/embedding_{}.npy'.format(nbr_products))\n",
        "products_embeddings_index = faiss.read_index('saved_indexes/index_{}.index'.format(nbr_products))\n",
        "\n",
        "# approximate argosrt: fais O(logP), where P is the number of products\n",
        "I_approximate = approximate_search(query_user, products_embeddings_index, K)  # approximate search\n",
        "\n",
        "# exact argosrt: O(PlogP), where P is the number of products\n",
        "reco_scores = compute_reco_score(query_user, products_embeddings)\n",
        "I_exact = exact_search(reco_scores, K) #exact search\n",
        "\n",
        "\n",
        "print('The search result using exact top-K', I_exact[:, 0])\n",
        "print('The search result using approximate top-K', I_approximate)"
      ],
      "id": "jNqBfLb-uKJL"
    },
    {
      "cell_type": "code",
      "execution_count": null,
      "metadata": {
        "colab": {
          "base_uri": "https://localhost:8080/",
          "height": 297
        },
        "id": "IDdrG1HvmwYS",
        "outputId": "db571411-88fe-4cc8-f9f8-ca648be3103e"
      },
      "outputs": [
        {
          "data": {
            "text/plain": [
              "Text(0.5, 0, 'recall@4')"
            ]
          },
          "execution_count": 14,
          "metadata": {},
          "output_type": "execute_result"
        },
        {
          "data": {
            "image/png": "[encoded data removed]",
            "text/plain": [
              "<Figure size 432x288 with 1 Axes>"
            ]
          },
          "metadata": {},
          "output_type": "display_data"
        }
      ],
      "source": [
        "h = []\n",
        "\n",
        "for _ in range(1000):\n",
        "\n",
        "  query_user = np.random.rand(1, d).astype('float32')\n",
        "\n",
        "  I_approximate = approximate_search(query_user, products_embeddings_index, K)  # approximate search\n",
        "\n",
        "  reco_scores = compute_reco_score(query_user, products_embeddings)\n",
        "  I_exact = exact_search(reco_scores, K) #exact search\n",
        "\n",
        "  h.append(sum((I_exact[:, 0] == I_approximate)[0]))\n",
        "\n",
        "plt.hist(h)\n",
        "plt.xlabel('recall@4')"
      ],
      "id": "IDdrG1HvmwYS"
    }
  ],
  "metadata": {
    "colab": {
      "collapsed_sections": [],
      "provenance": []
    },
    "gpuClass": "standard",
    "hide_input": false,
    "kernelspec": {
      "display_name": "Python 3",
      "name": "python3"
    },
    "language_info": {
      "name": "python"
    },
    "toc": {
      "base_numbering": 1,
      "nav_menu": {},
      "number_sections": true,
      "sideBar": true,
      "skip_h1_title": false,
      "title_cell": "Table of Contents",
      "title_sidebar": "Contents",
      "toc_cell": false,
      "toc_position": {},
      "toc_section_display": true,
      "toc_window_display": false
    }
  },
  "nbformat": 4,
  "nbformat_minor": 5
}